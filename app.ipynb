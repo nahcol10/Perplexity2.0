{
 "cells": [
  {
   "cell_type": "code",
   "execution_count": 2,
   "id": "0a255315",
   "metadata": {},
   "outputs": [],
   "source": [
    "from typing import TypedDict,Annotated,Optional\n",
    "from langgraph.graph import StateGraph,END,add_messages\n",
    "from langchain_google_genai import ChatGoogleGenerativeAI\n",
    "from langchain_community.tools import TavilySearchResults\n",
    "from langgraph.checkpoint.memory import MemorySaver\n",
    "from dotenv import load_dotenv\n",
    "\n",
    "load_dotenv()\n",
    "\n",
    "llm = ChatGoogleGenerativeAI(model=\"gemini-2.0-flash-001\")"
   ]
  },
  {
   "cell_type": "code",
   "execution_count": 3,
   "id": "b22170ca",
   "metadata": {},
   "outputs": [],
   "source": [
    "search_tools = TavilySearchResults(max_result = 4)\n",
    "\n",
    "tools = [search_tools]\n",
    "\n",
    "memory = MemorySaver()"
   ]
  },
  {
   "cell_type": "code",
   "execution_count": 4,
   "id": "14b7bbf3",
   "metadata": {},
   "outputs": [],
   "source": [
    "llm_with_tools = llm.bind_tools(tools=tools)"
   ]
  },
  {
   "cell_type": "code",
   "execution_count": 5,
   "id": "6c88e442",
   "metadata": {},
   "outputs": [],
   "source": [
    "from langchain_core.messages import HumanMessage, AIMessage, ToolMessage"
   ]
  },
  {
   "cell_type": "code",
   "execution_count": 6,
   "id": "7dd7b269",
   "metadata": {},
   "outputs": [],
   "source": [
    "class State(TypedDict):\n",
    "  messages: Annotated[list,add_messages]"
   ]
  },
  {
   "cell_type": "code",
   "execution_count": 7,
   "id": "285e01fe",
   "metadata": {},
   "outputs": [],
   "source": [
    "async def model(state: State):\n",
    "  result = await llm_with_tools.ainvoke(state[\"messages\"])\n",
    "  return {\n",
    "    \"messages\":[result]\n",
    "  }"
   ]
  },
  {
   "cell_type": "code",
   "execution_count": 8,
   "id": "b3c5b345",
   "metadata": {},
   "outputs": [],
   "source": [
    "async def tools_router(state: State):\n",
    "  last_message = state['messages'][-1]\n",
    "\n",
    "  if hasattr(last_message,\"tool_calls\") and len(last_message.tool_calls) > 0:\n",
    "    return \"tool_node\"\n",
    "  else:\n",
    "    return END"
   ]
  },
  {
   "cell_type": "code",
   "execution_count": 9,
   "id": "b827c0a4",
   "metadata": {},
   "outputs": [],
   "source": [
    "async def tool_node(state:State):\n",
    "  \"\"\"Custom tool node that handle tool calls from LLM \"\"\"\n",
    "  tool_calls = state['messages'][-1].tool_calls\n",
    "\n",
    "  tool_messages = []\n",
    "\n",
    "  for tool_call in tool_calls:\n",
    "    tool_name = tool_call[\"name\"]\n",
    "    tool_id = tool_call[\"id\"]\n",
    "    tool_args = tool_call[\"args\"]\n",
    "\n",
    "    if tool_name == \"tavily_search_results_json\":\n",
    "      search_result = await search_tools.ainvoke(tool_args)\n",
    "\n",
    "      tool_message = ToolMessage(\n",
    "        content=str(search_result),\n",
    "          tool_call_id=tool_id,\n",
    "          name=tool_name\n",
    "      )\n",
    "\n",
    "      tool_messages.append(tool_message)\n",
    "  return {\"messages\":tool_messages}"
   ]
  },
  {
   "cell_type": "code",
   "execution_count": 10,
   "id": "574c8a2e",
   "metadata": {},
   "outputs": [],
   "source": [
    "graph_builder = StateGraph(State)\n",
    "graph_builder.add_node(\"model\",model)\n",
    "graph_builder.add_node(\"tool_node\",tool_node)\n",
    "graph_builder.set_entry_point(\"model\")\n",
    "\n",
    "graph_builder.add_conditional_edges(\"model\",tools_router,{\n",
    "  END:END,\n",
    "  \"tool_node\":\"tool_node\"\n",
    "})\n",
    "graph_builder.add_edge(\"tool_node\",\"model\")\n",
    "\n",
    "graph = graph_builder.compile(checkpointer=memory)"
   ]
  },
  {
   "cell_type": "code",
   "execution_count": 11,
   "id": "1c3415a1",
   "metadata": {},
   "outputs": [
    {
     "data": {
      "image/png": "[encoded data removed]",
      "text/plain": [
       "<IPython.core.display.Image object>"
      ]
     },
     "metadata": {},
     "output_type": "display_data"
    }
   ],
   "source": [
    "from IPython.display import Image,display\n",
    "from langchain_core.runnables.graph import MermaidDrawMethod\n",
    "\n",
    "display(\n",
    "  Image(\n",
    "    graph.get_graph().draw_mermaid_png(\n",
    "      draw_method=MermaidDrawMethod.API\n",
    "    )\n",
    "  )\n",
    ")"
   ]
  },
  {
   "cell_type": "code",
   "execution_count": 21,
   "id": "6542a002",
   "metadata": {},
   "outputs": [],
   "source": [
    "config = {\n",
    "    \"configurable\": {\n",
    "        \"thread_id\": 4\n",
    "    }\n",
    "}"
   ]
  },
  {
   "cell_type": "code",
   "execution_count": null,
   "id": "4c8358ce",
   "metadata": {},
   "outputs": [],
   "source": [
    "response = await graph.ainvoke({\n",
    "    \"messages\": [HumanMessage(content=\"Who win the ipl 2025?\")], \n",
    "}, config=config)"
   ]
  },
  {
   "cell_type": "code",
   "execution_count": 28,
   "id": "054724be",
   "metadata": {},
   "outputs": [
    {
     "name": "stdout",
     "output_type": "stream",
     "text": [
      "{'event': 'on_chain_start', 'data': {'input': {'messages': ['Hi, how are you?']}}, 'name': 'LangGraph', 'tags': [], 'run_id': '4b93e6c1-594f-4da9-8162-6e6d88f37135', 'metadata': {}, 'parent_ids': []}\n"
     ]
    },
    {
     "ename": "ValueError",
     "evalue": "Checkpointer requires one or more of the following 'configurable' keys: ['thread_id', 'checkpoint_ns', 'checkpoint_id']",
     "output_type": "error",
     "traceback": [
      "\u001b[31m---------------------------------------------------------------------------\u001b[39m",
      "\u001b[31mValueError\u001b[39m                                Traceback (most recent call last)",
      "\u001b[36mCell\u001b[39m\u001b[36m \u001b[39m\u001b[32mIn[28]\u001b[39m\u001b[32m, line 7\u001b[39m\n\u001b[32m      1\u001b[39m \u001b[38;5;28minput\u001b[39m = {\n\u001b[32m      2\u001b[39m     \u001b[33m\"\u001b[39m\u001b[33mmessages\u001b[39m\u001b[33m\"\u001b[39m: [\u001b[33m\"\u001b[39m\u001b[33mHi, how are you?\u001b[39m\u001b[33m\"\u001b[39m]\n\u001b[32m      3\u001b[39m }\n\u001b[32m      5\u001b[39m events = graph.astream_events(\u001b[38;5;28minput\u001b[39m=\u001b[38;5;28minput\u001b[39m, version=\u001b[33m\"\u001b[39m\u001b[33mv2\u001b[39m\u001b[33m\"\u001b[39m)\n\u001b[32m----> \u001b[39m\u001b[32m7\u001b[39m \u001b[38;5;28;01masync\u001b[39;00m \u001b[38;5;28;01mfor\u001b[39;00m event \u001b[38;5;129;01min\u001b[39;00m events: \n\u001b[32m      8\u001b[39m     \u001b[38;5;28mprint\u001b[39m(event)\n",
      "\u001b[36mFile \u001b[39m\u001b[32m~/Learning/perplexity-2o/venv/lib/python3.12/site-packages/langchain_core/runnables/base.py:1404\u001b[39m, in \u001b[36mRunnable.astream_events\u001b[39m\u001b[34m(self, input, config, version, include_names, include_types, include_tags, exclude_names, exclude_types, exclude_tags, **kwargs)\u001b[39m\n\u001b[32m   1401\u001b[39m     \u001b[38;5;28;01mraise\u001b[39;00m \u001b[38;5;167;01mNotImplementedError\u001b[39;00m(msg)\n\u001b[32m   1403\u001b[39m \u001b[38;5;28;01masync\u001b[39;00m \u001b[38;5;28;01mwith\u001b[39;00m aclosing(event_stream):\n\u001b[32m-> \u001b[39m\u001b[32m1404\u001b[39m     \u001b[38;5;28;01masync\u001b[39;00m \u001b[38;5;28;01mfor\u001b[39;00m event \u001b[38;5;129;01min\u001b[39;00m event_stream:\n\u001b[32m   1405\u001b[39m         \u001b[38;5;28;01myield\u001b[39;00m event\n",
      "\u001b[36mFile \u001b[39m\u001b[32m~/Learning/perplexity-2o/venv/lib/python3.12/site-packages/langchain_core/tracers/event_stream.py:1021\u001b[39m, in \u001b[36m_astream_events_implementation_v2\u001b[39m\u001b[34m(runnable, value, config, include_names, include_types, include_tags, exclude_names, exclude_types, exclude_tags, **kwargs)\u001b[39m\n\u001b[32m   1019\u001b[39m \u001b[38;5;66;03m# Await it anyway, to run any cleanup code, and propagate any exceptions\u001b[39;00m\n\u001b[32m   1020\u001b[39m \u001b[38;5;28;01mwith\u001b[39;00m contextlib.suppress(asyncio.CancelledError):\n\u001b[32m-> \u001b[39m\u001b[32m1021\u001b[39m     \u001b[38;5;28;01mawait\u001b[39;00m task\n",
      "\u001b[36mFile \u001b[39m\u001b[32m~/Learning/perplexity-2o/venv/lib/python3.12/site-packages/langchain_core/tracers/event_stream.py:976\u001b[39m, in \u001b[36m_astream_events_implementation_v2.<locals>.consume_astream\u001b[39m\u001b[34m()\u001b[39m\n\u001b[32m    973\u001b[39m \u001b[38;5;28;01mtry\u001b[39;00m:\n\u001b[32m    974\u001b[39m     \u001b[38;5;66;03m# if astream also calls tap_output_aiter this will be a no-op\u001b[39;00m\n\u001b[32m    975\u001b[39m     \u001b[38;5;28;01masync\u001b[39;00m \u001b[38;5;28;01mwith\u001b[39;00m aclosing(runnable.astream(value, config, **kwargs)) \u001b[38;5;28;01mas\u001b[39;00m stream:\n\u001b[32m--> \u001b[39m\u001b[32m976\u001b[39m         \u001b[38;5;28;01masync\u001b[39;00m \u001b[38;5;28;01mfor\u001b[39;00m _ \u001b[38;5;129;01min\u001b[39;00m event_streamer.tap_output_aiter(run_id, stream):\n\u001b[32m    977\u001b[39m             \u001b[38;5;66;03m# All the content will be picked up\u001b[39;00m\n\u001b[32m    978\u001b[39m             \u001b[38;5;28;01mpass\u001b[39;00m\n\u001b[32m    979\u001b[39m \u001b[38;5;28;01mfinally\u001b[39;00m:\n",
      "\u001b[36mFile \u001b[39m\u001b[32m~/Learning/perplexity-2o/venv/lib/python3.12/site-packages/langchain_core/tracers/event_stream.py:181\u001b[39m, in \u001b[36m_AstreamEventsCallbackHandler.tap_output_aiter\u001b[39m\u001b[34m(self, run_id, output)\u001b[39m\n\u001b[32m    179\u001b[39m tap = \u001b[38;5;28mself\u001b[39m.is_tapped.setdefault(run_id, sentinel)\n\u001b[32m    180\u001b[39m \u001b[38;5;66;03m# wait for first chunk\u001b[39;00m\n\u001b[32m--> \u001b[39m\u001b[32m181\u001b[39m first = \u001b[38;5;28;01mawait\u001b[39;00m py_anext(output, default=sentinel)\n\u001b[32m    182\u001b[39m \u001b[38;5;28;01mif\u001b[39;00m first \u001b[38;5;129;01mis\u001b[39;00m sentinel:\n\u001b[32m    183\u001b[39m     \u001b[38;5;28;01mreturn\u001b[39;00m\n",
      "\u001b[36mFile \u001b[39m\u001b[32m~/Learning/perplexity-2o/venv/lib/python3.12/site-packages/langchain_core/utils/aiter.py:78\u001b[39m, in \u001b[36mpy_anext.<locals>.anext_impl\u001b[39m\u001b[34m()\u001b[39m\n\u001b[32m     71\u001b[39m \u001b[38;5;28;01masync\u001b[39;00m \u001b[38;5;28;01mdef\u001b[39;00m\u001b[38;5;250m \u001b[39m\u001b[34manext_impl\u001b[39m() -> Union[T, Any]:\n\u001b[32m     72\u001b[39m     \u001b[38;5;28;01mtry\u001b[39;00m:\n\u001b[32m     73\u001b[39m         \u001b[38;5;66;03m# The C code is way more low-level than this, as it implements\u001b[39;00m\n\u001b[32m     74\u001b[39m         \u001b[38;5;66;03m# all methods of the iterator protocol. In this implementation\u001b[39;00m\n\u001b[32m     75\u001b[39m         \u001b[38;5;66;03m# we're relying on higher-level coroutine concepts, but that's\u001b[39;00m\n\u001b[32m     76\u001b[39m         \u001b[38;5;66;03m# exactly what we want -- crosstest pure-Python high-level\u001b[39;00m\n\u001b[32m     77\u001b[39m         \u001b[38;5;66;03m# implementation and low-level C anext() iterators.\u001b[39;00m\n\u001b[32m---> \u001b[39m\u001b[32m78\u001b[39m         \u001b[38;5;28;01mreturn\u001b[39;00m \u001b[38;5;28;01mawait\u001b[39;00m \u001b[34m__anext__\u001b[39m(iterator)\n\u001b[32m     79\u001b[39m     \u001b[38;5;28;01mexcept\u001b[39;00m \u001b[38;5;167;01mStopAsyncIteration\u001b[39;00m:\n\u001b[32m     80\u001b[39m         \u001b[38;5;28;01mreturn\u001b[39;00m default\n",
      "\u001b[36mFile \u001b[39m\u001b[32m~/Learning/perplexity-2o/venv/lib/python3.12/site-packages/langgraph/pregel/__init__.py:2569\u001b[39m, in \u001b[36mPregel.astream\u001b[39m\u001b[34m(self, input, config, stream_mode, output_keys, interrupt_before, interrupt_after, checkpoint_during, debug, subgraphs)\u001b[39m\n\u001b[32m   2545\u001b[39m do_stream = (\n\u001b[32m   2546\u001b[39m     \u001b[38;5;28mnext\u001b[39m(\n\u001b[32m   2547\u001b[39m         (\n\u001b[32m   (...)\u001b[39m\u001b[32m   2556\u001b[39m     \u001b[38;5;28;01melse\u001b[39;00m \u001b[38;5;28;01mFalse\u001b[39;00m\n\u001b[32m   2557\u001b[39m )\n\u001b[32m   2558\u001b[39m \u001b[38;5;28;01mtry\u001b[39;00m:\n\u001b[32m   2559\u001b[39m     \u001b[38;5;66;03m# assign defaults\u001b[39;00m\n\u001b[32m   2560\u001b[39m     (\n\u001b[32m   2561\u001b[39m         debug,\n\u001b[32m   2562\u001b[39m         stream_modes,\n\u001b[32m   2563\u001b[39m         output_keys,\n\u001b[32m   2564\u001b[39m         interrupt_before_,\n\u001b[32m   2565\u001b[39m         interrupt_after_,\n\u001b[32m   2566\u001b[39m         checkpointer,\n\u001b[32m   2567\u001b[39m         store,\n\u001b[32m   2568\u001b[39m         cache,\n\u001b[32m-> \u001b[39m\u001b[32m2569\u001b[39m     ) = \u001b[38;5;28;43mself\u001b[39;49m\u001b[43m.\u001b[49m\u001b[43m_defaults\u001b[49m\u001b[43m(\u001b[49m\n\u001b[32m   2570\u001b[39m \u001b[43m        \u001b[49m\u001b[43mconfig\u001b[49m\u001b[43m,\u001b[49m\n\u001b[32m   2571\u001b[39m \u001b[43m        \u001b[49m\u001b[43mstream_mode\u001b[49m\u001b[43m=\u001b[49m\u001b[43mstream_mode\u001b[49m\u001b[43m,\u001b[49m\n\u001b[32m   2572\u001b[39m \u001b[43m        \u001b[49m\u001b[43moutput_keys\u001b[49m\u001b[43m=\u001b[49m\u001b[43moutput_keys\u001b[49m\u001b[43m,\u001b[49m\n\u001b[32m   2573\u001b[39m \u001b[43m        \u001b[49m\u001b[43minterrupt_before\u001b[49m\u001b[43m=\u001b[49m\u001b[43minterrupt_before\u001b[49m\u001b[43m,\u001b[49m\n\u001b[32m   2574\u001b[39m \u001b[43m        \u001b[49m\u001b[43minterrupt_after\u001b[49m\u001b[43m=\u001b[49m\u001b[43minterrupt_after\u001b[49m\u001b[43m,\u001b[49m\n\u001b[32m   2575\u001b[39m \u001b[43m        \u001b[49m\u001b[43mdebug\u001b[49m\u001b[43m=\u001b[49m\u001b[43mdebug\u001b[49m\u001b[43m,\u001b[49m\n\u001b[32m   2576\u001b[39m \u001b[43m    \u001b[49m\u001b[43m)\u001b[49m\n\u001b[32m   2577\u001b[39m     \u001b[38;5;66;03m# set up subgraph checkpointing\u001b[39;00m\n\u001b[32m   2578\u001b[39m     \u001b[38;5;28;01mif\u001b[39;00m \u001b[38;5;28mself\u001b[39m.checkpointer \u001b[38;5;129;01mis\u001b[39;00m \u001b[38;5;28;01mTrue\u001b[39;00m:\n",
      "\u001b[36mFile \u001b[39m\u001b[32m~/Learning/perplexity-2o/venv/lib/python3.12/site-packages/langgraph/pregel/__init__.py:2234\u001b[39m, in \u001b[36mPregel._defaults\u001b[39m\u001b[34m(self, config, stream_mode, output_keys, interrupt_before, interrupt_after, debug)\u001b[39m\n\u001b[32m   2232\u001b[39m     checkpointer = \u001b[38;5;28mself\u001b[39m.checkpointer\n\u001b[32m   2233\u001b[39m \u001b[38;5;28;01mif\u001b[39;00m checkpointer \u001b[38;5;129;01mand\u001b[39;00m \u001b[38;5;129;01mnot\u001b[39;00m config.get(CONF):\n\u001b[32m-> \u001b[39m\u001b[32m2234\u001b[39m     \u001b[38;5;28;01mraise\u001b[39;00m \u001b[38;5;167;01mValueError\u001b[39;00m(\n\u001b[32m   2235\u001b[39m         \u001b[33mf\u001b[39m\u001b[33m\"\u001b[39m\u001b[33mCheckpointer requires one or more of the following \u001b[39m\u001b[33m'\u001b[39m\u001b[33mconfigurable\u001b[39m\u001b[33m'\u001b[39m\u001b[33m keys: \u001b[39m\u001b[38;5;132;01m{\u001b[39;00m[s.id\u001b[38;5;250m \u001b[39m\u001b[38;5;28;01mfor\u001b[39;00m\u001b[38;5;250m \u001b[39ms\u001b[38;5;250m \u001b[39m\u001b[38;5;129;01min\u001b[39;00m\u001b[38;5;250m \u001b[39mcheckpointer.config_specs]\u001b[38;5;132;01m}\u001b[39;00m\u001b[33m\"\u001b[39m\n\u001b[32m   2236\u001b[39m     )\n\u001b[32m   2237\u001b[39m \u001b[38;5;28;01mif\u001b[39;00m CONFIG_KEY_STORE \u001b[38;5;129;01min\u001b[39;00m config.get(CONF, {}):\n\u001b[32m   2238\u001b[39m     store: BaseStore | \u001b[38;5;28;01mNone\u001b[39;00m = config[CONF][CONFIG_KEY_STORE]\n",
      "\u001b[31mValueError\u001b[39m: Checkpointer requires one or more of the following 'configurable' keys: ['thread_id', 'checkpoint_ns', 'checkpoint_id']"
     ]
    }
   ],
   "source": [
    "input = {\n",
    "    \"messages\": [\"Hi, how are you?\"]\n",
    "}\n",
    "\n",
    "events = graph.astream_events(input=input, version=\"v2\")\n",
    "\n",
    "async for event in events: \n",
    "    print(event)"
   ]
  },
  {
   "cell_type": "code",
   "execution_count": null,
   "id": "fcd24133",
   "metadata": {},
   "outputs": [],
   "source": []
  },
  {
   "cell_type": "code",
   "execution_count": null,
   "id": "683cb790",
   "metadata": {},
   "outputs": [],
   "source": []
  },
  {
   "cell_type": "code",
   "execution_count": null,
   "id": "d1dfc95f",
   "metadata": {},
   "outputs": [],
   "source": []
  },
  {
   "cell_type": "code",
   "execution_count": null,
   "id": "d51e213f",
   "metadata": {},
   "outputs": [],
   "source": []
  },
  {
   "cell_type": "code",
   "execution_count": null,
   "id": "540ab100",
   "metadata": {},
   "outputs": [],
   "source": []
  },
  {
   "cell_type": "code",
   "execution_count": null,
   "id": "64116bf6",
   "metadata": {},
   "outputs": [],
   "source": []
  },
  {
   "cell_type": "code",
   "execution_count": null,
   "id": "a4540820",
   "metadata": {},
   "outputs": [],
   "source": []
  }
 ],
 "metadata": {
  "kernelspec": {
   "display_name": "venv",
   "language": "python",
   "name": "python3"
  },
  "language_info": {
   "codemirror_mode": {
    "name": "ipython",
    "version": 3
   },
   "file_extension": ".py",
   "mimetype": "text/x-python",
   "name": "python",
   "nbconvert_exporter": "python",
   "pygments_lexer": "ipython3",
   "version": "3.12.7"
  }
 },
 "nbformat": 4,
 "nbformat_minor": 5
}
